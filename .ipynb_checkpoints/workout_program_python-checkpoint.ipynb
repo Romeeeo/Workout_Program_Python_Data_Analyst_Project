{
 "cells": [
  {
   "cell_type": "markdown",
   "id": "c8d50877",
   "metadata": {},
   "source": [
    "# Workout Program Data Analyst Project using __Python__\n",
    "Data Analyst Project using Python with the Pandas, NumPy, and Seaborn libraries for a 12 week workout program that I made for myself. I will be using Git Hub and Git Bash for version control.\n",
    "\n",
    "This project will be similar to the [this project](https://github.com/Romeeeo/Workout_Program_Data_Analyst_Project) that I did in the past. I will be using the same dataset, but will be using __Python__ to analyze the data.\n",
    "\n",
    "## Introduction\n",
    "In this case study, I will perform many real-world tasks of a junior data analyst at a fictional fitness company. In order to answer the key business questions, I will follow the steps of the data analysis process: [Ask](https://github.com/Romeeeo/Workout_Program_Python_Data_Analyst_Project/edit/main/README.md#ask), [Prepare](https://github.com/Romeeeo/Workout_Program_Python_Data_Analyst_Project/edit/main/README.md#prepare), [Process](https://github.com/Romeeeo/Workout_Program_Python_Data_Analyst_Project/edit/main/README.md#process), [Analyze](https://github.com/Romeeeo/Workout_Program_Python_Data_Analyst_Project/edit/main/README.md#analyze-and-share), [Share](https://github.com/Romeeeo/Workout_Program_Python_Data_Analyst_Project/edit/main/README.md#analyze-and-share), and [Act](https://github.com/Romeeeo/Workout_Program_Python_Data_Analyst_Project/edit/main/README.md#act).\n",
    "### Quick Links\n",
    "Data Source: For this project I took one of my 12 week workout programs and created a CSV from it. You can download the Data [Here](https://drive.google.com/uc?export=download&id=1AJovdTjjJM06A0DlkZkRYzWrUd2h6Tub)\n",
    "\n",
    "Jupyter Notebook: [Jupyter Notebook](https://github.com/Romeeeo/Employee_exit_surveys/blob/main/employee_exit_survey.ipynb)\n",
    "\n",
    "\n",
    "## Background\n",
    "\n",
    "### Scenario\n",
    "I am a junior data analyst working in the marketing analyst team at a fitness company. The director of marketing believes the company’s future success depends on maximizing the number people subscribing to their workout programas. Therefore, your team wants to understand the key components and valuable knowledge that is needed from a general 12 week program. From these insights, your team will design a new marketing strategy to bring in new subscribers. But first, the executives must approve your insights, so they must be backed up with compelling data insights and professional data visualizations.\n",
    "\n",
    "## Ask\n",
    "### Business Task\n",
    "Devise insights on a 12 week program to allow people to better understand what is to come and what is needed.\n",
    "### Analysis Questions\n",
    "Three questions will guide the future marketing program:  \n",
    "1. What are the key components of the 12 week workout program? \n",
    "2. What are the main equipments that are utilized in the program?\n",
    "3. How do the different intensity levels differ in the program?  \n",
    "\n",
    "The main objective is to provide insight on a simple 12 week program that everyone can follow.\n",
    "\n",
    "The insights will help people ease in to a workout program with general valuble knowledge on what is to come, whether they are a beginner or are advanced.\n",
    "## Prepare\n",
    "### Data Source\n",
    "For this project I took one of my 12 week workout programs and created a CSV from it. You can download the Data [Here](https://drive.google.com/uc?export=download&id=1AJovdTjjJM06A0DlkZkRYzWrUd2h6Tub)\n",
    "### Data Organization\n",
    "There is only one data file that consist of a workout program that spands over 12 weeks. The data consist of data such as the workout id, workout, muscle group, equipment, reps, number of sets, whether a workout is a superset or not, program week, date of a workout, and stage of the workout. The corresponding column names are workout_id, workout, muscle_group, equipment, reps, num_of_sets, superset, program_week, date_of_workout, stage.\n",
    "\n",
    "## Process\n",
    "I will be using the Jupyter Notebook with Python and utilizing both Pandas and NumPy for analyzing the data and Seaborn for data visualization."
   ]
  },
  {
   "cell_type": "markdown",
   "id": "4790e3bd",
   "metadata": {},
   "source": [
    "### Reading in the CSV file"
   ]
  },
  {
   "cell_type": "code",
   "execution_count": 52,
   "id": "b7ff6953",
   "metadata": {},
   "outputs": [],
   "source": [
    "import pandas as pd\n",
    "import numpy as np\n",
    "import seaborn as sns\n",
    "import matplotlib.pyplot as plt\n",
    "\n",
    "df = pd.read_csv('Data/12wk_Program_RM_new.csv')"
   ]
  },
  {
   "cell_type": "code",
   "execution_count": 53,
   "id": "262a84b6",
   "metadata": {},
   "outputs": [
    {
     "data": {
      "text/html": [
       "<div>\n",
       "<style scoped>\n",
       "    .dataframe tbody tr th:only-of-type {\n",
       "        vertical-align: middle;\n",
       "    }\n",
       "\n",
       "    .dataframe tbody tr th {\n",
       "        vertical-align: top;\n",
       "    }\n",
       "\n",
       "    .dataframe thead th {\n",
       "        text-align: right;\n",
       "    }\n",
       "</style>\n",
       "<table border=\"1\" class=\"dataframe\">\n",
       "  <thead>\n",
       "    <tr style=\"text-align: right;\">\n",
       "      <th></th>\n",
       "      <th>workout_id</th>\n",
       "      <th>workout</th>\n",
       "      <th>muscle_group</th>\n",
       "      <th>equipment</th>\n",
       "      <th>reps</th>\n",
       "      <th>num_of_sets</th>\n",
       "      <th>superset</th>\n",
       "      <th>program_week</th>\n",
       "      <th>date_of_workout</th>\n",
       "      <th>stage</th>\n",
       "    </tr>\n",
       "  </thead>\n",
       "  <tbody>\n",
       "    <tr>\n",
       "      <th>0</th>\n",
       "      <td>1</td>\n",
       "      <td>Back Squat</td>\n",
       "      <td>Legs</td>\n",
       "      <td>Barbell</td>\n",
       "      <td>12</td>\n",
       "      <td>4</td>\n",
       "      <td>no</td>\n",
       "      <td>1</td>\n",
       "      <td>2023-03-21</td>\n",
       "      <td>preperatory</td>\n",
       "    </tr>\n",
       "    <tr>\n",
       "      <th>1</th>\n",
       "      <td>2</td>\n",
       "      <td>Wide Legged Pulses</td>\n",
       "      <td>Legs</td>\n",
       "      <td>Body Weight</td>\n",
       "      <td>20</td>\n",
       "      <td>4</td>\n",
       "      <td>yes</td>\n",
       "      <td>1</td>\n",
       "      <td>2023-03-21</td>\n",
       "      <td>preperatory</td>\n",
       "    </tr>\n",
       "    <tr>\n",
       "      <th>2</th>\n",
       "      <td>3</td>\n",
       "      <td>Deadlifts</td>\n",
       "      <td>Legs</td>\n",
       "      <td>Hex bar</td>\n",
       "      <td>12</td>\n",
       "      <td>4</td>\n",
       "      <td>no</td>\n",
       "      <td>1</td>\n",
       "      <td>2023-03-21</td>\n",
       "      <td>preperatory</td>\n",
       "    </tr>\n",
       "    <tr>\n",
       "      <th>3</th>\n",
       "      <td>4</td>\n",
       "      <td>Hamcurls</td>\n",
       "      <td>Legs</td>\n",
       "      <td>Machine</td>\n",
       "      <td>12</td>\n",
       "      <td>4</td>\n",
       "      <td>yes</td>\n",
       "      <td>1</td>\n",
       "      <td>2023-03-21</td>\n",
       "      <td>preperatory</td>\n",
       "    </tr>\n",
       "    <tr>\n",
       "      <th>4</th>\n",
       "      <td>5</td>\n",
       "      <td>Leg Press</td>\n",
       "      <td>Legs</td>\n",
       "      <td>machine</td>\n",
       "      <td>12</td>\n",
       "      <td>4</td>\n",
       "      <td>no</td>\n",
       "      <td>1</td>\n",
       "      <td>2023-03-21</td>\n",
       "      <td>preperatory</td>\n",
       "    </tr>\n",
       "    <tr>\n",
       "      <th>5</th>\n",
       "      <td>6</td>\n",
       "      <td>Squat Jumps</td>\n",
       "      <td>Legs</td>\n",
       "      <td>Body Weight</td>\n",
       "      <td>15</td>\n",
       "      <td>4</td>\n",
       "      <td>yes</td>\n",
       "      <td>1</td>\n",
       "      <td>2023-03-21</td>\n",
       "      <td>preperatory</td>\n",
       "    </tr>\n",
       "    <tr>\n",
       "      <th>6</th>\n",
       "      <td>7</td>\n",
       "      <td>Bench Press</td>\n",
       "      <td>Chest</td>\n",
       "      <td>Barbell</td>\n",
       "      <td>12</td>\n",
       "      <td>4</td>\n",
       "      <td>no</td>\n",
       "      <td>1</td>\n",
       "      <td>2023-03-22</td>\n",
       "      <td>preperatory</td>\n",
       "    </tr>\n",
       "    <tr>\n",
       "      <th>7</th>\n",
       "      <td>8</td>\n",
       "      <td>Push ups</td>\n",
       "      <td>Chest</td>\n",
       "      <td>Body Weight</td>\n",
       "      <td>15</td>\n",
       "      <td>4</td>\n",
       "      <td>yes</td>\n",
       "      <td>1</td>\n",
       "      <td>2023-03-22</td>\n",
       "      <td>preperatory</td>\n",
       "    </tr>\n",
       "    <tr>\n",
       "      <th>8</th>\n",
       "      <td>9</td>\n",
       "      <td>Incline Press</td>\n",
       "      <td>Chest</td>\n",
       "      <td>Dumbbells</td>\n",
       "      <td>12</td>\n",
       "      <td>4</td>\n",
       "      <td>no</td>\n",
       "      <td>1</td>\n",
       "      <td>2023-03-22</td>\n",
       "      <td>preperatory</td>\n",
       "    </tr>\n",
       "    <tr>\n",
       "      <th>9</th>\n",
       "      <td>10</td>\n",
       "      <td>Chest pull overs</td>\n",
       "      <td>Chest</td>\n",
       "      <td>EZ curlbar</td>\n",
       "      <td>15</td>\n",
       "      <td>4</td>\n",
       "      <td>yes</td>\n",
       "      <td>1</td>\n",
       "      <td>2023-03-22</td>\n",
       "      <td>preperatory</td>\n",
       "    </tr>\n",
       "  </tbody>\n",
       "</table>\n",
       "</div>"
      ],
      "text/plain": [
       "   workout_id             workout muscle_group    equipment  reps  \\\n",
       "0           1          Back Squat         Legs      Barbell    12   \n",
       "1           2  Wide Legged Pulses         Legs  Body Weight    20   \n",
       "2           3           Deadlifts         Legs      Hex bar    12   \n",
       "3           4            Hamcurls         Legs      Machine    12   \n",
       "4           5           Leg Press         Legs      machine    12   \n",
       "5           6         Squat Jumps         Legs  Body Weight    15   \n",
       "6           7         Bench Press        Chest      Barbell    12   \n",
       "7           8            Push ups        Chest  Body Weight    15   \n",
       "8           9       Incline Press        Chest    Dumbbells    12   \n",
       "9          10   Chest pull overs         Chest   EZ curlbar    15   \n",
       "\n",
       "   num_of_sets superset  program_week date_of_workout        stage  \n",
       "0            4       no             1      2023-03-21  preperatory  \n",
       "1            4      yes             1      2023-03-21  preperatory  \n",
       "2            4       no             1      2023-03-21  preperatory  \n",
       "3            4      yes             1      2023-03-21  preperatory  \n",
       "4            4       no             1      2023-03-21  preperatory  \n",
       "5            4      yes             1      2023-03-21  preperatory  \n",
       "6            4       no             1      2023-03-22  preperatory  \n",
       "7            4      yes             1      2023-03-22  preperatory  \n",
       "8            4       no             1      2023-03-22  preperatory  \n",
       "9            4      yes             1      2023-03-22  preperatory  "
      ]
     },
     "execution_count": 53,
     "metadata": {},
     "output_type": "execute_result"
    }
   ],
   "source": [
    "df.head(10)"
   ]
  },
  {
   "cell_type": "code",
   "execution_count": 54,
   "id": "c42425cb",
   "metadata": {},
   "outputs": [
    {
     "name": "stdout",
     "output_type": "stream",
     "text": [
      "<class 'pandas.core.frame.DataFrame'>\n",
      "RangeIndex: 453 entries, 0 to 452\n",
      "Data columns (total 10 columns):\n",
      " #   Column           Non-Null Count  Dtype \n",
      "---  ------           --------------  ----- \n",
      " 0   workout_id       453 non-null    int64 \n",
      " 1   workout          453 non-null    object\n",
      " 2   muscle_group     453 non-null    object\n",
      " 3   equipment        453 non-null    object\n",
      " 4   reps             453 non-null    int64 \n",
      " 5   num_of_sets      453 non-null    int64 \n",
      " 6   superset         453 non-null    object\n",
      " 7   program_week     453 non-null    int64 \n",
      " 8   date_of_workout  453 non-null    object\n",
      " 9   stage            453 non-null    object\n",
      "dtypes: int64(4), object(6)\n",
      "memory usage: 35.5+ KB\n"
     ]
    }
   ],
   "source": [
    "df.info()"
   ]
  },
  {
   "cell_type": "code",
   "execution_count": 55,
   "id": "0aa75fd6",
   "metadata": {},
   "outputs": [
    {
     "data": {
      "text/plain": [
       "workout_id         0\n",
       "workout            0\n",
       "muscle_group       0\n",
       "equipment          0\n",
       "reps               0\n",
       "num_of_sets        0\n",
       "superset           0\n",
       "program_week       0\n",
       "date_of_workout    0\n",
       "stage              0\n",
       "dtype: int64"
      ]
     },
     "execution_count": 55,
     "metadata": {},
     "output_type": "execute_result"
    }
   ],
   "source": [
    "# Check for the number of nulls in each column\n",
    "df.isnull().sum()"
   ]
  },
  {
   "cell_type": "code",
   "execution_count": 56,
   "id": "6672a522",
   "metadata": {},
   "outputs": [],
   "source": [
    "# Clean the column names\n",
    "df.columns = df.columns.str.lower().str.strip().str.replace(' ', '_')"
   ]
  },
  {
   "cell_type": "code",
   "execution_count": 57,
   "id": "897689ed",
   "metadata": {},
   "outputs": [
    {
     "data": {
      "text/plain": [
       "Index(['workout_id', 'workout', 'muscle_group', 'equipment', 'reps',\n",
       "       'num_of_sets', 'superset', 'program_week', 'date_of_workout', 'stage'],\n",
       "      dtype='object')"
      ]
     },
     "execution_count": 57,
     "metadata": {},
     "output_type": "execute_result"
    }
   ],
   "source": [
    "# Check out the column names\n",
    "df.columns"
   ]
  },
  {
   "cell_type": "code",
   "execution_count": 58,
   "id": "8b46cb06",
   "metadata": {},
   "outputs": [
    {
     "data": {
      "text/html": [
       "<div>\n",
       "<style scoped>\n",
       "    .dataframe tbody tr th:only-of-type {\n",
       "        vertical-align: middle;\n",
       "    }\n",
       "\n",
       "    .dataframe tbody tr th {\n",
       "        vertical-align: top;\n",
       "    }\n",
       "\n",
       "    .dataframe thead th {\n",
       "        text-align: right;\n",
       "    }\n",
       "</style>\n",
       "<table border=\"1\" class=\"dataframe\">\n",
       "  <thead>\n",
       "    <tr style=\"text-align: right;\">\n",
       "      <th></th>\n",
       "      <th>workout_id</th>\n",
       "      <th>workout</th>\n",
       "      <th>muscle_group</th>\n",
       "      <th>equipment</th>\n",
       "      <th>reps</th>\n",
       "      <th>num_of_sets</th>\n",
       "      <th>superset</th>\n",
       "      <th>program_week</th>\n",
       "      <th>date_of_workout</th>\n",
       "      <th>stage</th>\n",
       "    </tr>\n",
       "  </thead>\n",
       "  <tbody>\n",
       "    <tr>\n",
       "      <th>0</th>\n",
       "      <td>1</td>\n",
       "      <td>Back Squat</td>\n",
       "      <td>Legs</td>\n",
       "      <td>Barbell</td>\n",
       "      <td>12</td>\n",
       "      <td>4</td>\n",
       "      <td>no</td>\n",
       "      <td>1</td>\n",
       "      <td>2023-03-21</td>\n",
       "      <td>preperatory</td>\n",
       "    </tr>\n",
       "    <tr>\n",
       "      <th>1</th>\n",
       "      <td>2</td>\n",
       "      <td>Wide Legged Pulses</td>\n",
       "      <td>Legs</td>\n",
       "      <td>Body Weight</td>\n",
       "      <td>20</td>\n",
       "      <td>4</td>\n",
       "      <td>yes</td>\n",
       "      <td>1</td>\n",
       "      <td>2023-03-21</td>\n",
       "      <td>preperatory</td>\n",
       "    </tr>\n",
       "    <tr>\n",
       "      <th>2</th>\n",
       "      <td>3</td>\n",
       "      <td>Deadlifts</td>\n",
       "      <td>Legs</td>\n",
       "      <td>Hex bar</td>\n",
       "      <td>12</td>\n",
       "      <td>4</td>\n",
       "      <td>no</td>\n",
       "      <td>1</td>\n",
       "      <td>2023-03-21</td>\n",
       "      <td>preperatory</td>\n",
       "    </tr>\n",
       "    <tr>\n",
       "      <th>3</th>\n",
       "      <td>4</td>\n",
       "      <td>Hamcurls</td>\n",
       "      <td>Legs</td>\n",
       "      <td>Machine</td>\n",
       "      <td>12</td>\n",
       "      <td>4</td>\n",
       "      <td>yes</td>\n",
       "      <td>1</td>\n",
       "      <td>2023-03-21</td>\n",
       "      <td>preperatory</td>\n",
       "    </tr>\n",
       "    <tr>\n",
       "      <th>4</th>\n",
       "      <td>5</td>\n",
       "      <td>Leg Press</td>\n",
       "      <td>Legs</td>\n",
       "      <td>machine</td>\n",
       "      <td>12</td>\n",
       "      <td>4</td>\n",
       "      <td>no</td>\n",
       "      <td>1</td>\n",
       "      <td>2023-03-21</td>\n",
       "      <td>preperatory</td>\n",
       "    </tr>\n",
       "    <tr>\n",
       "      <th>...</th>\n",
       "      <td>...</td>\n",
       "      <td>...</td>\n",
       "      <td>...</td>\n",
       "      <td>...</td>\n",
       "      <td>...</td>\n",
       "      <td>...</td>\n",
       "      <td>...</td>\n",
       "      <td>...</td>\n",
       "      <td>...</td>\n",
       "      <td>...</td>\n",
       "    </tr>\n",
       "    <tr>\n",
       "      <th>448</th>\n",
       "      <td>449</td>\n",
       "      <td>Wide hand pushups</td>\n",
       "      <td>Chest</td>\n",
       "      <td>Body Weight</td>\n",
       "      <td>15</td>\n",
       "      <td>3</td>\n",
       "      <td>yes</td>\n",
       "      <td>12</td>\n",
       "      <td>2023-06-10</td>\n",
       "      <td>Shred</td>\n",
       "    </tr>\n",
       "    <tr>\n",
       "      <th>449</th>\n",
       "      <td>450</td>\n",
       "      <td>Lat pulldown</td>\n",
       "      <td>Back</td>\n",
       "      <td>Machine</td>\n",
       "      <td>10</td>\n",
       "      <td>3</td>\n",
       "      <td>no</td>\n",
       "      <td>12</td>\n",
       "      <td>2023-06-10</td>\n",
       "      <td>Shred</td>\n",
       "    </tr>\n",
       "    <tr>\n",
       "      <th>450</th>\n",
       "      <td>451</td>\n",
       "      <td>Shoulder press</td>\n",
       "      <td>Shoulders</td>\n",
       "      <td>Dumbbells</td>\n",
       "      <td>10</td>\n",
       "      <td>3</td>\n",
       "      <td>no</td>\n",
       "      <td>12</td>\n",
       "      <td>2023-06-10</td>\n",
       "      <td>Shred</td>\n",
       "    </tr>\n",
       "    <tr>\n",
       "      <th>451</th>\n",
       "      <td>452</td>\n",
       "      <td>Hammer curls</td>\n",
       "      <td>Biceps</td>\n",
       "      <td>Dumbbells</td>\n",
       "      <td>12</td>\n",
       "      <td>3</td>\n",
       "      <td>no</td>\n",
       "      <td>12</td>\n",
       "      <td>2023-06-10</td>\n",
       "      <td>Shred</td>\n",
       "    </tr>\n",
       "    <tr>\n",
       "      <th>452</th>\n",
       "      <td>453</td>\n",
       "      <td>Dips</td>\n",
       "      <td>Triceps</td>\n",
       "      <td>Body Weight</td>\n",
       "      <td>10</td>\n",
       "      <td>3</td>\n",
       "      <td>yes</td>\n",
       "      <td>12</td>\n",
       "      <td>2023-06-10</td>\n",
       "      <td>Shred</td>\n",
       "    </tr>\n",
       "  </tbody>\n",
       "</table>\n",
       "<p>453 rows × 10 columns</p>\n",
       "</div>"
      ],
      "text/plain": [
       "     workout_id             workout muscle_group    equipment  reps  \\\n",
       "0             1          Back Squat         Legs      Barbell    12   \n",
       "1             2  Wide Legged Pulses         Legs  Body Weight    20   \n",
       "2             3           Deadlifts         Legs      Hex bar    12   \n",
       "3             4            Hamcurls         Legs      Machine    12   \n",
       "4             5           Leg Press         Legs      machine    12   \n",
       "..          ...                 ...          ...          ...   ...   \n",
       "448         449   Wide hand pushups        Chest  Body Weight    15   \n",
       "449         450        Lat pulldown         Back      Machine    10   \n",
       "450         451      Shoulder press    Shoulders    Dumbbells    10   \n",
       "451         452        Hammer curls       Biceps    Dumbbells    12   \n",
       "452         453                Dips      Triceps  Body Weight    10   \n",
       "\n",
       "     num_of_sets superset  program_week date_of_workout        stage  \n",
       "0              4       no             1      2023-03-21  preperatory  \n",
       "1              4      yes             1      2023-03-21  preperatory  \n",
       "2              4       no             1      2023-03-21  preperatory  \n",
       "3              4      yes             1      2023-03-21  preperatory  \n",
       "4              4       no             1      2023-03-21  preperatory  \n",
       "..           ...      ...           ...             ...          ...  \n",
       "448            3      yes            12      2023-06-10        Shred  \n",
       "449            3       no            12      2023-06-10        Shred  \n",
       "450            3       no            12      2023-06-10        Shred  \n",
       "451            3       no            12      2023-06-10        Shred  \n",
       "452            3      yes            12      2023-06-10        Shred  \n",
       "\n",
       "[453 rows x 10 columns]"
      ]
     },
     "execution_count": 58,
     "metadata": {},
     "output_type": "execute_result"
    }
   ],
   "source": [
    "# Set the datatypes for each column automatically\n",
    "df.convert_dtypes()"
   ]
  },
  {
   "cell_type": "code",
   "execution_count": 59,
   "id": "5b91f551",
   "metadata": {},
   "outputs": [],
   "source": [
    "# Convert date of workout column to datetime\n",
    "df['date_of_workout'] =  pd.to_datetime(df['date_of_workout'])"
   ]
  },
  {
   "cell_type": "code",
   "execution_count": 60,
   "id": "eb6516ba",
   "metadata": {},
   "outputs": [
    {
     "name": "stdout",
     "output_type": "stream",
     "text": [
      "<class 'pandas.core.frame.DataFrame'>\n",
      "RangeIndex: 453 entries, 0 to 452\n",
      "Data columns (total 10 columns):\n",
      " #   Column           Non-Null Count  Dtype         \n",
      "---  ------           --------------  -----         \n",
      " 0   workout_id       453 non-null    int64         \n",
      " 1   workout          453 non-null    object        \n",
      " 2   muscle_group     453 non-null    object        \n",
      " 3   equipment        453 non-null    object        \n",
      " 4   reps             453 non-null    int64         \n",
      " 5   num_of_sets      453 non-null    int64         \n",
      " 6   superset         453 non-null    object        \n",
      " 7   program_week     453 non-null    int64         \n",
      " 8   date_of_workout  453 non-null    datetime64[ns]\n",
      " 9   stage            453 non-null    object        \n",
      "dtypes: datetime64[ns](1), int64(4), object(5)\n",
      "memory usage: 35.5+ KB\n"
     ]
    }
   ],
   "source": [
    "df.info()"
   ]
  },
  {
   "cell_type": "code",
   "execution_count": 61,
   "id": "e7e05df4",
   "metadata": {},
   "outputs": [],
   "source": [
    "# Extract the month from the date of workout column\n",
    "df['month'] = df['date_of_workout'].dt.month"
   ]
  },
  {
   "cell_type": "code",
   "execution_count": 62,
   "id": "216a765d",
   "metadata": {},
   "outputs": [
    {
     "data": {
      "text/plain": [
       "month\n",
       "5    177\n",
       "4    147\n",
       "6     69\n",
       "3     60\n",
       "Name: count, dtype: int64"
      ]
     },
     "execution_count": 62,
     "metadata": {},
     "output_type": "execute_result"
    }
   ],
   "source": [
    "# Check month column values\n",
    "df['month'].value_counts()"
   ]
  },
  {
   "cell_type": "code",
   "execution_count": 63,
   "id": "3236e2ec",
   "metadata": {},
   "outputs": [
    {
     "name": "stdout",
     "output_type": "stream",
     "text": [
      "<class 'pandas.core.frame.DataFrame'>\n",
      "RangeIndex: 453 entries, 0 to 452\n",
      "Data columns (total 11 columns):\n",
      " #   Column           Non-Null Count  Dtype         \n",
      "---  ------           --------------  -----         \n",
      " 0   workout_id       453 non-null    int64         \n",
      " 1   workout          453 non-null    object        \n",
      " 2   muscle_group     453 non-null    object        \n",
      " 3   equipment        453 non-null    object        \n",
      " 4   reps             453 non-null    int64         \n",
      " 5   num_of_sets      453 non-null    int64         \n",
      " 6   superset         453 non-null    object        \n",
      " 7   program_week     453 non-null    int64         \n",
      " 8   date_of_workout  453 non-null    datetime64[ns]\n",
      " 9   stage            453 non-null    object        \n",
      " 10  month            453 non-null    int32         \n",
      "dtypes: datetime64[ns](1), int32(1), int64(4), object(5)\n",
      "memory usage: 37.3+ KB\n"
     ]
    }
   ],
   "source": [
    "df.info()"
   ]
  },
  {
   "cell_type": "code",
   "execution_count": 64,
   "id": "d81ac1b8",
   "metadata": {},
   "outputs": [],
   "source": [
    "df['month'] = df['month'].astype(str)"
   ]
  },
  {
   "cell_type": "code",
   "execution_count": 65,
   "id": "8ca2ff3a",
   "metadata": {},
   "outputs": [
    {
     "name": "stdout",
     "output_type": "stream",
     "text": [
      "<class 'pandas.core.frame.DataFrame'>\n",
      "RangeIndex: 453 entries, 0 to 452\n",
      "Data columns (total 11 columns):\n",
      " #   Column           Non-Null Count  Dtype         \n",
      "---  ------           --------------  -----         \n",
      " 0   workout_id       453 non-null    int64         \n",
      " 1   workout          453 non-null    object        \n",
      " 2   muscle_group     453 non-null    object        \n",
      " 3   equipment        453 non-null    object        \n",
      " 4   reps             453 non-null    int64         \n",
      " 5   num_of_sets      453 non-null    int64         \n",
      " 6   superset         453 non-null    object        \n",
      " 7   program_week     453 non-null    int64         \n",
      " 8   date_of_workout  453 non-null    datetime64[ns]\n",
      " 9   stage            453 non-null    object        \n",
      " 10  month            453 non-null    object        \n",
      "dtypes: datetime64[ns](1), int64(4), object(6)\n",
      "memory usage: 39.1+ KB\n"
     ]
    }
   ],
   "source": [
    "df.info()"
   ]
  },
  {
   "cell_type": "code",
   "execution_count": 66,
   "id": "a7c3dc27",
   "metadata": {},
   "outputs": [
    {
     "data": {
      "text/plain": [
       "month\n",
       "may    177\n",
       "apr    147\n",
       "jun     69\n",
       "mar     60\n",
       "Name: count, dtype: int64"
      ]
     },
     "execution_count": 66,
     "metadata": {},
     "output_type": "execute_result"
    }
   ],
   "source": [
    "# Convert the months into string values\n",
    "def tranform_month(val):\n",
    "    if val == '3':\n",
    "        return \"mar\"\n",
    "    elif val == '4':\n",
    "        return \"apr\"\n",
    "    elif val == '5':\n",
    "        return \"may\"\n",
    "    elif val == '6':\n",
    "        return \"jun\"\n",
    "    else:\n",
    "        return np.nan\n",
    "df['month'] = df['month'].apply(tranform_month)\n",
    "\n",
    "# Quick check of the update\n",
    "df['month'].value_counts()"
   ]
  },
  {
   "cell_type": "code",
   "execution_count": 67,
   "id": "8034855c",
   "metadata": {},
   "outputs": [
    {
     "data": {
      "text/html": [
       "<div>\n",
       "<style scoped>\n",
       "    .dataframe tbody tr th:only-of-type {\n",
       "        vertical-align: middle;\n",
       "    }\n",
       "\n",
       "    .dataframe tbody tr th {\n",
       "        vertical-align: top;\n",
       "    }\n",
       "\n",
       "    .dataframe thead th {\n",
       "        text-align: right;\n",
       "    }\n",
       "</style>\n",
       "<table border=\"1\" class=\"dataframe\">\n",
       "  <thead>\n",
       "    <tr style=\"text-align: right;\">\n",
       "      <th></th>\n",
       "      <th>workout_id</th>\n",
       "      <th>workout</th>\n",
       "      <th>muscle_group</th>\n",
       "      <th>equipment</th>\n",
       "      <th>reps</th>\n",
       "      <th>num_of_sets</th>\n",
       "      <th>superset</th>\n",
       "      <th>program_week</th>\n",
       "      <th>date_of_workout</th>\n",
       "      <th>stage</th>\n",
       "      <th>month</th>\n",
       "    </tr>\n",
       "  </thead>\n",
       "  <tbody>\n",
       "    <tr>\n",
       "      <th>0</th>\n",
       "      <td>1</td>\n",
       "      <td>Back Squat</td>\n",
       "      <td>Legs</td>\n",
       "      <td>Barbell</td>\n",
       "      <td>12</td>\n",
       "      <td>4</td>\n",
       "      <td>no</td>\n",
       "      <td>1</td>\n",
       "      <td>2023-03-21</td>\n",
       "      <td>preperatory</td>\n",
       "      <td>mar</td>\n",
       "    </tr>\n",
       "    <tr>\n",
       "      <th>1</th>\n",
       "      <td>2</td>\n",
       "      <td>Wide Legged Pulses</td>\n",
       "      <td>Legs</td>\n",
       "      <td>Body Weight</td>\n",
       "      <td>20</td>\n",
       "      <td>4</td>\n",
       "      <td>yes</td>\n",
       "      <td>1</td>\n",
       "      <td>2023-03-21</td>\n",
       "      <td>preperatory</td>\n",
       "      <td>mar</td>\n",
       "    </tr>\n",
       "    <tr>\n",
       "      <th>2</th>\n",
       "      <td>3</td>\n",
       "      <td>Deadlifts</td>\n",
       "      <td>Legs</td>\n",
       "      <td>Hex bar</td>\n",
       "      <td>12</td>\n",
       "      <td>4</td>\n",
       "      <td>no</td>\n",
       "      <td>1</td>\n",
       "      <td>2023-03-21</td>\n",
       "      <td>preperatory</td>\n",
       "      <td>mar</td>\n",
       "    </tr>\n",
       "    <tr>\n",
       "      <th>3</th>\n",
       "      <td>4</td>\n",
       "      <td>Hamcurls</td>\n",
       "      <td>Legs</td>\n",
       "      <td>Machine</td>\n",
       "      <td>12</td>\n",
       "      <td>4</td>\n",
       "      <td>yes</td>\n",
       "      <td>1</td>\n",
       "      <td>2023-03-21</td>\n",
       "      <td>preperatory</td>\n",
       "      <td>mar</td>\n",
       "    </tr>\n",
       "    <tr>\n",
       "      <th>4</th>\n",
       "      <td>5</td>\n",
       "      <td>Leg Press</td>\n",
       "      <td>Legs</td>\n",
       "      <td>machine</td>\n",
       "      <td>12</td>\n",
       "      <td>4</td>\n",
       "      <td>no</td>\n",
       "      <td>1</td>\n",
       "      <td>2023-03-21</td>\n",
       "      <td>preperatory</td>\n",
       "      <td>mar</td>\n",
       "    </tr>\n",
       "    <tr>\n",
       "      <th>...</th>\n",
       "      <td>...</td>\n",
       "      <td>...</td>\n",
       "      <td>...</td>\n",
       "      <td>...</td>\n",
       "      <td>...</td>\n",
       "      <td>...</td>\n",
       "      <td>...</td>\n",
       "      <td>...</td>\n",
       "      <td>...</td>\n",
       "      <td>...</td>\n",
       "      <td>...</td>\n",
       "    </tr>\n",
       "    <tr>\n",
       "      <th>448</th>\n",
       "      <td>449</td>\n",
       "      <td>Wide hand pushups</td>\n",
       "      <td>Chest</td>\n",
       "      <td>Body Weight</td>\n",
       "      <td>15</td>\n",
       "      <td>3</td>\n",
       "      <td>yes</td>\n",
       "      <td>12</td>\n",
       "      <td>2023-06-10</td>\n",
       "      <td>Shred</td>\n",
       "      <td>jun</td>\n",
       "    </tr>\n",
       "    <tr>\n",
       "      <th>449</th>\n",
       "      <td>450</td>\n",
       "      <td>Lat pulldown</td>\n",
       "      <td>Back</td>\n",
       "      <td>Machine</td>\n",
       "      <td>10</td>\n",
       "      <td>3</td>\n",
       "      <td>no</td>\n",
       "      <td>12</td>\n",
       "      <td>2023-06-10</td>\n",
       "      <td>Shred</td>\n",
       "      <td>jun</td>\n",
       "    </tr>\n",
       "    <tr>\n",
       "      <th>450</th>\n",
       "      <td>451</td>\n",
       "      <td>Shoulder press</td>\n",
       "      <td>Shoulders</td>\n",
       "      <td>Dumbbells</td>\n",
       "      <td>10</td>\n",
       "      <td>3</td>\n",
       "      <td>no</td>\n",
       "      <td>12</td>\n",
       "      <td>2023-06-10</td>\n",
       "      <td>Shred</td>\n",
       "      <td>jun</td>\n",
       "    </tr>\n",
       "    <tr>\n",
       "      <th>451</th>\n",
       "      <td>452</td>\n",
       "      <td>Hammer curls</td>\n",
       "      <td>Biceps</td>\n",
       "      <td>Dumbbells</td>\n",
       "      <td>12</td>\n",
       "      <td>3</td>\n",
       "      <td>no</td>\n",
       "      <td>12</td>\n",
       "      <td>2023-06-10</td>\n",
       "      <td>Shred</td>\n",
       "      <td>jun</td>\n",
       "    </tr>\n",
       "    <tr>\n",
       "      <th>452</th>\n",
       "      <td>453</td>\n",
       "      <td>Dips</td>\n",
       "      <td>Triceps</td>\n",
       "      <td>Body Weight</td>\n",
       "      <td>10</td>\n",
       "      <td>3</td>\n",
       "      <td>yes</td>\n",
       "      <td>12</td>\n",
       "      <td>2023-06-10</td>\n",
       "      <td>Shred</td>\n",
       "      <td>jun</td>\n",
       "    </tr>\n",
       "  </tbody>\n",
       "</table>\n",
       "<p>453 rows × 11 columns</p>\n",
       "</div>"
      ],
      "text/plain": [
       "     workout_id             workout muscle_group    equipment  reps  \\\n",
       "0             1          Back Squat         Legs      Barbell    12   \n",
       "1             2  Wide Legged Pulses         Legs  Body Weight    20   \n",
       "2             3           Deadlifts         Legs      Hex bar    12   \n",
       "3             4            Hamcurls         Legs      Machine    12   \n",
       "4             5           Leg Press         Legs      machine    12   \n",
       "..          ...                 ...          ...          ...   ...   \n",
       "448         449   Wide hand pushups        Chest  Body Weight    15   \n",
       "449         450        Lat pulldown         Back      Machine    10   \n",
       "450         451      Shoulder press    Shoulders    Dumbbells    10   \n",
       "451         452        Hammer curls       Biceps    Dumbbells    12   \n",
       "452         453                Dips      Triceps  Body Weight    10   \n",
       "\n",
       "     num_of_sets superset  program_week date_of_workout        stage month  \n",
       "0              4       no             1      2023-03-21  preperatory   mar  \n",
       "1              4      yes             1      2023-03-21  preperatory   mar  \n",
       "2              4       no             1      2023-03-21  preperatory   mar  \n",
       "3              4      yes             1      2023-03-21  preperatory   mar  \n",
       "4              4       no             1      2023-03-21  preperatory   mar  \n",
       "..           ...      ...           ...             ...          ...   ...  \n",
       "448            3      yes            12      2023-06-10        Shred   jun  \n",
       "449            3       no            12      2023-06-10        Shred   jun  \n",
       "450            3       no            12      2023-06-10        Shred   jun  \n",
       "451            3       no            12      2023-06-10        Shred   jun  \n",
       "452            3      yes            12      2023-06-10        Shred   jun  \n",
       "\n",
       "[453 rows x 11 columns]"
      ]
     },
     "execution_count": 67,
     "metadata": {},
     "output_type": "execute_result"
    }
   ],
   "source": [
    "# Remove all null values\n",
    "df.dropna()"
   ]
  },
  {
   "cell_type": "code",
   "execution_count": 68,
   "id": "3eb4cab0",
   "metadata": {},
   "outputs": [],
   "source": [
    "# Drop all duplicate values based on the workout_id column\n",
    "df = df.drop_duplicates(subset=['workout_id'])"
   ]
  },
  {
   "cell_type": "code",
   "execution_count": 69,
   "id": "333ce854",
   "metadata": {},
   "outputs": [
    {
     "data": {
      "text/html": [
       "<div>\n",
       "<style scoped>\n",
       "    .dataframe tbody tr th:only-of-type {\n",
       "        vertical-align: middle;\n",
       "    }\n",
       "\n",
       "    .dataframe tbody tr th {\n",
       "        vertical-align: top;\n",
       "    }\n",
       "\n",
       "    .dataframe thead th {\n",
       "        text-align: right;\n",
       "    }\n",
       "</style>\n",
       "<table border=\"1\" class=\"dataframe\">\n",
       "  <thead>\n",
       "    <tr style=\"text-align: right;\">\n",
       "      <th></th>\n",
       "      <th>workout_id</th>\n",
       "      <th>workout</th>\n",
       "      <th>muscle_group</th>\n",
       "      <th>equipment</th>\n",
       "      <th>reps</th>\n",
       "      <th>num_of_sets</th>\n",
       "      <th>superset</th>\n",
       "      <th>program_week</th>\n",
       "      <th>date_of_workout</th>\n",
       "      <th>stage</th>\n",
       "      <th>month</th>\n",
       "    </tr>\n",
       "  </thead>\n",
       "  <tbody>\n",
       "    <tr>\n",
       "      <th>0</th>\n",
       "      <td>0</td>\n",
       "      <td>Back Squat</td>\n",
       "      <td>Legs</td>\n",
       "      <td>Barbell</td>\n",
       "      <td>12</td>\n",
       "      <td>4</td>\n",
       "      <td>no</td>\n",
       "      <td>1</td>\n",
       "      <td>2023-03-21</td>\n",
       "      <td>preperatory</td>\n",
       "      <td>mar</td>\n",
       "    </tr>\n",
       "    <tr>\n",
       "      <th>1</th>\n",
       "      <td>1</td>\n",
       "      <td>Wide Legged Pulses</td>\n",
       "      <td>Legs</td>\n",
       "      <td>Body Weight</td>\n",
       "      <td>20</td>\n",
       "      <td>4</td>\n",
       "      <td>yes</td>\n",
       "      <td>1</td>\n",
       "      <td>2023-03-21</td>\n",
       "      <td>preperatory</td>\n",
       "      <td>mar</td>\n",
       "    </tr>\n",
       "    <tr>\n",
       "      <th>2</th>\n",
       "      <td>2</td>\n",
       "      <td>Deadlifts</td>\n",
       "      <td>Legs</td>\n",
       "      <td>Hex bar</td>\n",
       "      <td>12</td>\n",
       "      <td>4</td>\n",
       "      <td>no</td>\n",
       "      <td>1</td>\n",
       "      <td>2023-03-21</td>\n",
       "      <td>preperatory</td>\n",
       "      <td>mar</td>\n",
       "    </tr>\n",
       "    <tr>\n",
       "      <th>3</th>\n",
       "      <td>3</td>\n",
       "      <td>Hamcurls</td>\n",
       "      <td>Legs</td>\n",
       "      <td>Machine</td>\n",
       "      <td>12</td>\n",
       "      <td>4</td>\n",
       "      <td>yes</td>\n",
       "      <td>1</td>\n",
       "      <td>2023-03-21</td>\n",
       "      <td>preperatory</td>\n",
       "      <td>mar</td>\n",
       "    </tr>\n",
       "    <tr>\n",
       "      <th>4</th>\n",
       "      <td>4</td>\n",
       "      <td>Leg Press</td>\n",
       "      <td>Legs</td>\n",
       "      <td>machine</td>\n",
       "      <td>12</td>\n",
       "      <td>4</td>\n",
       "      <td>no</td>\n",
       "      <td>1</td>\n",
       "      <td>2023-03-21</td>\n",
       "      <td>preperatory</td>\n",
       "      <td>mar</td>\n",
       "    </tr>\n",
       "  </tbody>\n",
       "</table>\n",
       "</div>"
      ],
      "text/plain": [
       "   workout_id             workout muscle_group    equipment  reps  \\\n",
       "0           0          Back Squat         Legs      Barbell    12   \n",
       "1           1  Wide Legged Pulses         Legs  Body Weight    20   \n",
       "2           2           Deadlifts         Legs      Hex bar    12   \n",
       "3           3            Hamcurls         Legs      Machine    12   \n",
       "4           4           Leg Press         Legs      machine    12   \n",
       "\n",
       "   num_of_sets superset  program_week date_of_workout        stage month  \n",
       "0            4       no             1      2023-03-21  preperatory   mar  \n",
       "1            4      yes             1      2023-03-21  preperatory   mar  \n",
       "2            4       no             1      2023-03-21  preperatory   mar  \n",
       "3            4      yes             1      2023-03-21  preperatory   mar  \n",
       "4            4       no             1      2023-03-21  preperatory   mar  "
      ]
     },
     "execution_count": 69,
     "metadata": {},
     "output_type": "execute_result"
    }
   ],
   "source": [
    "# Change all of the workout id's to match the index\n",
    "def chng_to_index(val):\n",
    "    return val - 1\n",
    "\n",
    "df['workout_id'] = df['workout_id'].apply(chng_to_index)\n",
    "\n",
    "df.head()"
   ]
  },
  {
   "cell_type": "code",
   "execution_count": 70,
   "id": "1d56426b",
   "metadata": {},
   "outputs": [],
   "source": [
    "# Applying lowercase transformation to all values\n",
    "df = df.applymap(lambda x: x.lower() if isinstance(x, str) else x)"
   ]
  },
  {
   "cell_type": "code",
   "execution_count": 71,
   "id": "2aea6a72",
   "metadata": {},
   "outputs": [
    {
     "data": {
      "text/plain": [
       "muscle_group\n",
       "legs         119\n",
       "abs           74\n",
       "back          68\n",
       "chest         66\n",
       "shoulders     58\n",
       "triceps       35\n",
       "biceps        33\n",
       "Name: count, dtype: int64"
      ]
     },
     "execution_count": 71,
     "metadata": {},
     "output_type": "execute_result"
    }
   ],
   "source": [
    "# Check the values of all of muscle groups in the workout program\n",
    "df['muscle_group'].value_counts()"
   ]
  },
  {
   "cell_type": "code",
   "execution_count": 72,
   "id": "09ac366b",
   "metadata": {},
   "outputs": [
    {
     "name": "stdout",
     "output_type": "stream",
     "text": [
      "Range for number of sets throughout the workout program 2-6:\n"
     ]
    }
   ],
   "source": [
    "# Check the range of num_of_sets column\n",
    "min_value = df['num_of_sets'].min()\n",
    "max_value = df['num_of_sets'].max()\n",
    "\n",
    "print(\"Range for number of sets throughout the workout program {}-{}:\".format(min_value,max_value))"
   ]
  },
  {
   "cell_type": "code",
   "execution_count": 73,
   "id": "a388ce2d",
   "metadata": {},
   "outputs": [
    {
     "data": {
      "text/plain": [
       "equipment\n",
       "machine        138\n",
       "dumbbells      114\n",
       "body weight     82\n",
       "barbell         60\n",
       "ez curlbar      39\n",
       "bench            8\n",
       "lat bar          6\n",
       "cubbies          3\n",
       "hex bar          2\n",
       "thick bar        1\n",
       "Name: count, dtype: int64"
      ]
     },
     "execution_count": 73,
     "metadata": {},
     "output_type": "execute_result"
    }
   ],
   "source": [
    "# Check to see which equipment is used throughout the program\n",
    "df['equipment'].value_counts()"
   ]
  },
  {
   "cell_type": "code",
   "execution_count": 74,
   "id": "182eb1cc",
   "metadata": {},
   "outputs": [
    {
     "name": "stdout",
     "output_type": "stream",
     "text": [
      "Max week: 12\n"
     ]
    }
   ],
   "source": [
    "# Make sure that there are only 12 weeks in the program\n",
    "max_week = df['program_week'].max()\n",
    "\n",
    "print(\"Max week:\", max_week)"
   ]
  },
  {
   "cell_type": "code",
   "execution_count": 75,
   "id": "743b631d",
   "metadata": {},
   "outputs": [
    {
     "data": {
      "text/plain": [
       "stage\n",
       "hypertrophy    142\n",
       "shred          131\n",
       "loading        112\n",
       "preperatory     68\n",
       "Name: count, dtype: int64"
      ]
     },
     "execution_count": 75,
     "metadata": {},
     "output_type": "execute_result"
    }
   ],
   "source": [
    "# List of the stages for the program\n",
    "df['stage'].value_counts()"
   ]
  },
  {
   "cell_type": "code",
   "execution_count": 76,
   "id": "b29d2050",
   "metadata": {},
   "outputs": [
    {
     "name": "stdout",
     "output_type": "stream",
     "text": [
      "Range for number of reps throughout the workout program 4-60:\n"
     ]
    }
   ],
   "source": [
    "# Check the range for the number of reps throughout the program\n",
    "min_value = df['reps'].min()\n",
    "max_value = df['reps'].max()\n",
    "\n",
    "print(\"Range for number of reps throughout the workout program {}-{}:\".format(min_value,max_value))"
   ]
  },
  {
   "cell_type": "code",
   "execution_count": 77,
   "id": "0b84fa19",
   "metadata": {},
   "outputs": [
    {
     "data": {
      "text/plain": [
       "muscle_group\n",
       "legs         26.269316\n",
       "abs          16.335541\n",
       "back         15.011038\n",
       "chest        14.569536\n",
       "shoulders    12.803532\n",
       "triceps       7.726269\n",
       "biceps        7.284768\n",
       "Name: proportion, dtype: float64"
      ]
     },
     "execution_count": 77,
     "metadata": {},
     "output_type": "execute_result"
    }
   ],
   "source": [
    "# Percentage of workout for each muscle group\n",
    "df['muscle_group'].value_counts(normalize=True) * 100"
   ]
  },
  {
   "cell_type": "code",
   "execution_count": 78,
   "id": "19de6cc8",
   "metadata": {},
   "outputs": [
    {
     "name": "stdout",
     "output_type": "stream",
     "text": [
      "3.0\n"
     ]
    }
   ],
   "source": [
    "# Average number of sets per workout to the nearest whole number\n",
    "avg_sets = df['num_of_sets'].mean().round()\n",
    "\n",
    "print(avg_sets)"
   ]
  },
  {
   "cell_type": "code",
   "execution_count": 79,
   "id": "66872f0a",
   "metadata": {},
   "outputs": [
    {
     "data": {
      "text/plain": [
       "stage\n",
       "hypertrophy    142\n",
       "shred          131\n",
       "loading        112\n",
       "preperatory     68\n",
       "Name: count, dtype: int64"
      ]
     },
     "execution_count": 79,
     "metadata": {},
     "output_type": "execute_result"
    }
   ],
   "source": [
    "# Number of workouts per stage\n",
    "df['stage'].value_counts()"
   ]
  },
  {
   "cell_type": "code",
   "execution_count": 80,
   "id": "3716d1ed",
   "metadata": {},
   "outputs": [
    {
     "data": {
      "text/plain": [
       "stage\n",
       "hypertrophy    31.346578\n",
       "shred          28.918322\n",
       "loading        24.724062\n",
       "preperatory    15.011038\n",
       "Name: proportion, dtype: float64"
      ]
     },
     "execution_count": 80,
     "metadata": {},
     "output_type": "execute_result"
    }
   ],
   "source": [
    "# Number of workout per stage as a percentage\n",
    "df['stage'].value_counts(normalize=True) * 100"
   ]
  },
  {
   "cell_type": "code",
   "execution_count": 81,
   "id": "d188ae44",
   "metadata": {},
   "outputs": [
    {
     "data": {
      "text/plain": [
       "equipment\n",
       "machine        138\n",
       "dumbbells      114\n",
       "body weight     82\n",
       "barbell         60\n",
       "ez curlbar      39\n",
       "bench            8\n",
       "lat bar          6\n",
       "cubbies          3\n",
       "hex bar          2\n",
       "thick bar        1\n",
       "Name: count, dtype: int64"
      ]
     },
     "execution_count": 81,
     "metadata": {},
     "output_type": "execute_result"
    }
   ],
   "source": [
    "# equipment used thoughout the program\n",
    "df['equipment'].value_counts()"
   ]
  },
  {
   "cell_type": "code",
   "execution_count": 82,
   "id": "969a27dc",
   "metadata": {},
   "outputs": [
    {
     "data": {
      "text/plain": [
       "453"
      ]
     },
     "execution_count": 82,
     "metadata": {},
     "output_type": "execute_result"
    }
   ],
   "source": [
    "df.shape[0]"
   ]
  },
  {
   "cell_type": "code",
   "execution_count": 110,
   "id": "ca25e7fb",
   "metadata": {},
   "outputs": [
    {
     "data": {
      "image/png": "[encoded data removed]",
      "text/plain": [
       "<Figure size 640x480 with 1 Axes>"
      ]
     },
     "metadata": {},
     "output_type": "display_data"
    }
   ],
   "source": [
    "# Number of workouts per muscle group throughout the program\n",
    "\n",
    "# Creating a bar chart using Seaborn\n",
    "sns.countplot(x='muscle_group', data=df, order=df['muscle_group'].value_counts().index)\n",
    "\n",
    "# Adding labels and title\n",
    "plt.ylabel('Number of workouts')\n",
    "plt.xlabel('Muscle Group')\n",
    "plt.title('Number of workout per Muscle Group')\n",
    "\n",
    "# Displaying the plot\n",
    "plt.show()"
   ]
  },
  {
   "cell_type": "code",
   "execution_count": 115,
   "id": "841a9b52",
   "metadata": {},
   "outputs": [
    {
     "data": {
      "image/png": "[encoded data removed]",
      "text/plain": [
       "<Figure size 640x480 with 1 Axes>"
      ]
     },
     "metadata": {},
     "output_type": "display_data"
    }
   ],
   "source": [
    "# Number of workouts per equipment\n",
    "# Creating a horizontal histogram using Seaborn\n",
    "counts = df.groupby('equipment').size().reset_index(name='Count')\n",
    "\n",
    "sns.barplot(x='Count', y='equipment', orientation='horizontal', data=counts, order=df['equipment'].value_counts().index)\n",
    "\n",
    "# Adding labels and title\n",
    "plt.xlabel('Number of workouts')\n",
    "plt.ylabel('Equipment')\n",
    "plt.title('Number of workouts per equipment')\n",
    "\n",
    "# Displaying the plot\n",
    "plt.show()"
   ]
  },
  {
   "cell_type": "code",
   "execution_count": 124,
   "id": "4c2dcb27",
   "metadata": {},
   "outputs": [
    {
     "data": {
      "image/png": "[encoded data removed]",
      "text/plain": [
       "<Figure size 640x480 with 1 Axes>"
      ]
     },
     "metadata": {},
     "output_type": "display_data"
    }
   ],
   "source": [
    "# Number of workouts per muscle group each month\n",
    "\n",
    "# create dataframe with count index\n",
    "counts = df.groupby(['month', 'muscle_group']).size().reset_index(name='Count')\n",
    "\n",
    "# custom order for the months\n",
    "custom_order = ['mar', 'apr', 'may', 'jun']\n",
    "\n",
    "# Sorting the DataFrame based on the custom order\n",
    "df_sorted = counts[counts['month'].isin(custom_order)].sort_values(by='month', key=lambda x: [custom_order.index(e) for e in x])\n",
    "\n",
    "# Creating a pointplot using Seaborn with counts on the y-axis and hue\n",
    "sns.lineplot(x='month', y='Count', hue='muscle_group', data=df_sorted)\n",
    "\n",
    "# Adding labels and title\n",
    "plt.xlabel('Month')\n",
    "plt.ylabel('Number of workouts')\n",
    "plt.title('Number of workouts per muscle group each month')\n",
    "\n",
    "# Displaying the plot\n",
    "plt.show()"
   ]
  },
  {
   "cell_type": "code",
   "execution_count": 142,
   "id": "99b2fae8",
   "metadata": {},
   "outputs": [
    {
     "data": {
      "text/plain": [
       "9"
      ]
     },
     "execution_count": 142,
     "metadata": {},
     "output_type": "execute_result"
    }
   ],
   "source": [
    "# Month of March\n",
    "mar_month = df[df['month'] == 'mar'].copy()\n",
    "\n",
    "mar_month['date_of_workout'].value_counts().count()"
   ]
  },
  {
   "cell_type": "code",
   "execution_count": 141,
   "id": "863fd402",
   "metadata": {},
   "outputs": [
    {
     "data": {
      "text/plain": [
       "21"
      ]
     },
     "execution_count": 141,
     "metadata": {},
     "output_type": "execute_result"
    }
   ],
   "source": [
    "# Month of April\n",
    "apr_month = df[df['month'] == 'apr'].copy()\n",
    "\n",
    "count_of_workout_in_april = apr_month['date_of_workout'].value_counts().count()"
   ]
  },
  {
   "cell_type": "code",
   "execution_count": null,
   "id": "4b38db25",
   "metadata": {},
   "outputs": [],
   "source": []
  },
  {
   "cell_type": "code",
   "execution_count": null,
   "id": "96beae65",
   "metadata": {},
   "outputs": [],
   "source": []
  },
  {
   "cell_type": "code",
   "execution_count": null,
   "id": "fb2191f7",
   "metadata": {},
   "outputs": [],
   "source": []
  }
 ],
 "metadata": {
  "kernelspec": {
   "display_name": "Python 3 (ipykernel)",
   "language": "python",
   "name": "python3"
  },
  "language_info": {
   "codemirror_mode": {
    "name": "ipython",
    "version": 3
   },
   "file_extension": ".py",
   "mimetype": "text/x-python",
   "name": "python",
   "nbconvert_exporter": "python",
   "pygments_lexer": "ipython3",
   "version": "3.11.5"
  }
 },
 "nbformat": 4,
 "nbformat_minor": 5
}
